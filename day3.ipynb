{
 "cells": [
  {
   "cell_type": "code",
   "execution_count": 7,
   "id": "da072772",
   "metadata": {},
   "outputs": [
    {
     "name": "stdout",
     "output_type": "stream",
     "text": [
      "1\n",
      "2\n",
      "3\n",
      "4\n",
      "5\n",
      "6\n",
      "7\n",
      "8\n",
      "9\n",
      "1\n",
      "[{'key1': '1', 'key2': '2'}, {'key1': '3', 'key2': '4'}, {'key1': '5', 'key2': '6'}, {'key1': '7', 'key2': '8'}, {'key1': '9', 'key2': '1'}]\n"
     ]
    }
   ],
   "source": [
    "l=[]\n",
    "for i in range(5):\n",
    "    s={}\n",
    "    s['key1']=input()\n",
    "    s['key2']=input()\n",
    "    l.append(s)\n",
    "print(l)"
   ]
  },
  {
   "cell_type": "code",
   "execution_count": 22,
   "id": "de80b182",
   "metadata": {},
   "outputs": [
    {
     "name": "stdout",
     "output_type": "stream",
     "text": [
      "cse@task.com\n",
      "789\n",
      "invalid\n"
     ]
    }
   ],
   "source": [
    "db=[{'abc@task.com':123},{'bcd@task.com':234},{'cde@task.com':789},{'xyz@task.com':678}]\n",
    "username=input()\n",
    "password=int(input())\n",
    "flag=0\n",
    "for i in db:\n",
    "    for j in i:\n",
    "        if(j==username):\n",
    "            if(i[j]==password):\n",
    "                print('valid')\n",
    "                flag=1\n",
    "                break\n",
    "    if(flag==1):\n",
    "        break\n",
    "if(flag==0):\n",
    "    print('invalid')\n",
    "\n",
    "    "
   ]
  },
  {
   "cell_type": "code",
   "execution_count": 25,
   "id": "3caa87ee",
   "metadata": {},
   "outputs": [
    {
     "name": "stdout",
     "output_type": "stream",
     "text": [
      "xcv\n",
      "123\n",
      "invalid\n"
     ]
    }
   ],
   "source": [
    "db=[{'abc@task.com':123},{'bcd@task.com':234},{'cde@task.com':789},{'xyz@task.com':678}]\n",
    "username=input()\n",
    "password=int(input())\n",
    "for i in db:\n",
    "    if (username,password) in i.items():\n",
    "        print('Valid')\n",
    "        break\n",
    "else:\n",
    "    print('invalid')"
   ]
  },
  {
   "cell_type": "code",
   "execution_count": 1,
   "id": "6d4c7994",
   "metadata": {},
   "outputs": [
    {
     "name": "stdout",
     "output_type": "stream",
     "text": [
      "xyx\n",
      "12\n",
      "invalid\n"
     ]
    }
   ],
   "source": [
    "db=[{'abc@task.com':123},{'bcd@task.com':234},{'cde@task.com':789},{'xyz@task.com':678}]\n",
    "username=input()\n",
    "password=int(input())\n",
    "temp={username:password}\n",
    "if temp in db:\n",
    "    print('valid')\n",
    "else:\n",
    "    print('invalid')"
   ]
  },
  {
   "cell_type": "code",
   "execution_count": 7,
   "id": "e3561fb9",
   "metadata": {},
   "outputs": [
    {
     "name": "stdout",
     "output_type": "stream",
     "text": [
      "thanujasandhya021202@gmail.com\n",
      "2152\n",
      "registration successful\n",
      "[{'abc@task.com': 123}, {'bcd@task.com': 234}, {'cde@task.com': 789}, {'xyz@task.com': 678}, {'thanujasandhya021202@gmail.com': 2152}]\n"
     ]
    }
   ],
   "source": [
    "db=[{'abc@task.com':123},{'bcd@task.com':234},{'cde@task.com':789},{'xyz@task.com':678}]\n",
    "username=input()\n",
    "password=int(input())\n",
    "for i in db:\n",
    "    if username in i:\n",
    "        print(\"give another username\")\n",
    "        username=input()\n",
    "        db.append({username:password})\n",
    "        break\n",
    "else:\n",
    "    db.append({username:password})\n",
    "    print('registration successful')\n",
    "print(db)\n",
    "    "
   ]
  },
  {
   "cell_type": "code",
   "execution_count": 7,
   "id": "2f2c8ddf",
   "metadata": {},
   "outputs": [
    {
     "name": "stdout",
     "output_type": "stream",
     "text": [
      "1 2 3 4\n",
      "1 2 1\n",
      "1 2 4 \n",
      "\n",
      "1 2 3\n",
      "1 2 6 7\n",
      "1 2 6\n",
      "\n",
      "2 4 6 \n",
      "2 4 7 \n",
      "2 4 10 \n"
     ]
    }
   ],
   "source": [
    "row=3\n",
    "col=3\n",
    "mat1=[]\n",
    "mat2=[]\n",
    "res=[]\n",
    "for i in range(row):\n",
    "    mat1.append(list(map(int,input().split()))[:col])\n",
    "print()\n",
    "for i in range(row):\n",
    "    mat2.append(list(map(int,input().split()))[:col])\n",
    "res=[[0 for j in range(col)] for i in range(row)]\n",
    "print()\n",
    "for i in range(row):\n",
    "    for j in range(col):\n",
    "        res[i][j] = mat1[i][j]+mat2[i][j]\n",
    "        print(res[i][j],end=' ')\n",
    "    print()\n"
   ]
  },
  {
   "cell_type": "code",
   "execution_count": 1,
   "id": "ce5b29e0",
   "metadata": {},
   "outputs": [
    {
     "name": "stdout",
     "output_type": "stream",
     "text": [
      "1 2 3\n",
      "4 5 6 7\n",
      "4 7 8\n",
      "1 4 4 \n",
      "2 5 7 \n",
      "3 6 8 \n"
     ]
    }
   ],
   "source": [
    "row=3\n",
    "col=3\n",
    "mat=[]\n",
    "for i in range(row):\n",
    "    mat.append(list(map(int,input().split()))[:col])\n",
    "for i in range(row):\n",
    "    for j in range(col):\n",
    "        print(mat[j][i],end=' ')\n",
    "    print()\n",
    "    "
   ]
  },
  {
   "cell_type": "code",
   "execution_count": 5,
   "id": "c97f30a9",
   "metadata": {},
   "outputs": [
    {
     "name": "stdout",
     "output_type": "stream",
     "text": [
      "[0, 1, 1, 2, 3, 5, 8, 13, 21, 34, 55, 89, 144, 233, 377, 610, 987, 1597, 2584, 4181, 6765, 10946, 17711, 28657, 46368]\n"
     ]
    }
   ],
   "source": [
    "l=[0,1]\n",
    "i=2\n",
    "while(len(l)<25):\n",
    "    l.append(l[-1]+l[-2])\n",
    "print(l)"
   ]
  },
  {
   "cell_type": "code",
   "execution_count": 23,
   "id": "5e09c0d3",
   "metadata": {},
   "outputs": [
    {
     "name": "stdout",
     "output_type": "stream",
     "text": [
      "Thanuja sandhya\n",
      "['thanuJa', 'sandhya']\n",
      "thanuJa-sandhya\n",
      "Thanuja Sandhya\n",
      "THANUJA SANDHYA\n",
      "thanuja sandhya\n",
      "4\n",
      "False\n",
      "False\n"
     ]
    }
   ],
   "source": [
    "s=\"thanuJa sandhya\"\n",
    "print(s.capitalize())\n",
    "res=s.split()\n",
    "print(res)\n",
    "print('-'.join(res))\n",
    "print(s.title())\n",
    "print(s.upper())\n",
    "print(s.lower())\n",
    "print(s.count('a'))\n",
    "print(s.isalnum())\n",
    "print(s.isalpha())"
   ]
  },
  {
   "cell_type": "code",
   "execution_count": 29,
   "id": "6a3db51e",
   "metadata": {},
   "outputs": [
    {
     "name": "stdout",
     "output_type": "stream",
     "text": [
      "the square of       3.14 is 9.86\n",
      "the square of 3.14 is 9.9\n"
     ]
    }
   ],
   "source": [
    "num=3.14\n",
    "print('the square of {:10} is {:.2f}'.format(num,num*num))\n",
    "print(f'the square of {num} is {num*num:.1f}')#fstrings"
   ]
  },
  {
   "cell_type": "code",
   "execution_count": 33,
   "id": "b388f2cb",
   "metadata": {},
   "outputs": [
    {
     "name": "stdout",
     "output_type": "stream",
     "text": [
      "5\n",
      "7\n",
      "#\n",
      "invalid operator\n"
     ]
    }
   ],
   "source": [
    "num1=int(input())\n",
    "num2=int(input())\n",
    "op=input()\n",
    "if(op=='+'):\n",
    "    print(num1+num2)\n",
    "elif(op=='-'):\n",
    "    print(num1-num2)\n",
    "elif(op=='*'):\n",
    "    print(num1*num)\n",
    "elif(op=='/'):\n",
    "    try:\n",
    "        print(num1/num2)\n",
    "    except:\n",
    "        print('num2 should not be zero')\n",
    "else:\n",
    "    print('invalid operator')"
   ]
  },
  {
   "cell_type": "code",
   "execution_count": 1,
   "id": "747e7a64",
   "metadata": {},
   "outputs": [
    {
     "name": "stdout",
     "output_type": "stream",
     "text": [
      "1 2 3 4 57,000\n",
      "try another time\n"
     ]
    }
   ],
   "source": [
    "try:\n",
    "    l=list(map(int,input().split()))[:5]\n",
    "    print(*l)\n",
    "except:\n",
    "    print('try another time')"
   ]
  },
  {
   "cell_type": "code",
   "execution_count": 2,
   "id": "978f5674",
   "metadata": {},
   "outputs": [
    {
     "name": "stdout",
     "output_type": "stream",
     "text": [
      "-2\n"
     ]
    }
   ],
   "source": [
    "print(eval(\"3+5//8-5\"))"
   ]
  },
  {
   "cell_type": "code",
   "execution_count": 17,
   "id": "578114ea",
   "metadata": {},
   "outputs": [
    {
     "name": "stdout",
     "output_type": "stream",
     "text": [
      "32\n",
      "not a prime\n"
     ]
    }
   ],
   "source": [
    "def is_prime(num):\n",
    "    for i in range(2,int(num**0.5)+1):\n",
    "        if(num%i==0):\n",
    "            return 0\n",
    "    else:\n",
    "        return 1\n",
    "num=int(input())\n",
    "if(is_prime(num)==0):\n",
    "    print('not a prime')\n",
    "elif(is_prime(num)==1):\n",
    "    print('prime')\n",
    "        "
   ]
  },
  {
   "cell_type": "code",
   "execution_count": null,
   "id": "f0ec136a",
   "metadata": {},
   "outputs": [],
   "source": []
  },
  {
   "cell_type": "code",
   "execution_count": null,
   "id": "04b984d9",
   "metadata": {},
   "outputs": [],
   "source": []
  }
 ],
 "metadata": {
  "kernelspec": {
   "display_name": "Python 3 (ipykernel)",
   "language": "python",
   "name": "python3"
  },
  "language_info": {
   "codemirror_mode": {
    "name": "ipython",
    "version": 3
   },
   "file_extension": ".py",
   "mimetype": "text/x-python",
   "name": "python",
   "nbconvert_exporter": "python",
   "pygments_lexer": "ipython3",
   "version": "3.9.12"
  }
 },
 "nbformat": 4,
 "nbformat_minor": 5
}
