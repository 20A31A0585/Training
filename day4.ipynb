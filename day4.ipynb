{
 "cells": [
  {
   "cell_type": "code",
   "execution_count": 1,
   "id": "c6f1ab7f",
   "metadata": {},
   "outputs": [
    {
     "name": "stdout",
     "output_type": "stream",
     "text": [
      "[5, 5, 5, 5, 5]\n"
     ]
    }
   ],
   "source": [
    "l=[5]*5\n",
    "print(l)"
   ]
  },
  {
   "cell_type": "code",
   "execution_count": 2,
   "id": "024f3623",
   "metadata": {},
   "outputs": [
    {
     "data": {
      "text/plain": [
       "15"
      ]
     },
     "execution_count": 2,
     "metadata": {},
     "output_type": "execute_result"
    }
   ],
   "source": [
    "5^10"
   ]
  },
  {
   "cell_type": "markdown",
   "id": "3cb35225",
   "metadata": {},
   "source": [
    "#packages\n",
    "import filename\n",
    "from filename import function\n",
    "print(filename.function())"
   ]
  },
  {
   "cell_type": "markdown",
   "id": "669962f1",
   "metadata": {},
   "source": [
    "class Student:\n",
    "    name=\"\"\n",
    "    roll_number=\"\"\n",
    "    branch=\"\"\n",
    "    marks=0\n",
    "    attendence=0.0                                #self is keyword that defines the method is belong to the class\n",
    "    is_using_transport=False                      #constructor is used to give the default values for the class members\n",
    "    def view_attendence(self):\n",
    "    def view_marks(self):\n",
    "    def view_profile(self):\n",
    "    def update_name(self,new_name):\n",
    "    "
   ]
  },
  {
   "cell_type": "code",
   "execution_count": 13,
   "id": "d030f561",
   "metadata": {
    "scrolled": true
   },
   "outputs": [
    {
     "name": "stdout",
     "output_type": "stream",
     "text": [
      "object is created\n",
      "Sandhya\n",
      "xy\n",
      "Sandhya\n",
      "object is created\n",
      "Tanuja\n",
      "xy\n",
      "Tanuja\n",
      "Sandhya\n",
      "Tanuja Sandhya\n"
     ]
    }
   ],
   "source": [
    "class Student:\n",
    "    student_name=\"xy\"\n",
    "    def __init__(self,name):\n",
    "        print('object is created')\n",
    "        print(name)\n",
    "        print(self.student_name)\n",
    "        self.student_name=name\n",
    "        print(self.student_name)\n",
    "    def update_name(self,new_name):\n",
    "        self.student_name=new_name\n",
    "s1=Student('Sandhya')\n",
    "s2=Student('Tanuja')\n",
    "print(s1.student_name)\n",
    "s1.update_name('Tanuja Sandhya')\n",
    "print(s1.student_name)\n"
   ]
  },
  {
   "cell_type": "code",
   "execution_count": 11,
   "id": "5e45afab",
   "metadata": {},
   "outputs": [
    {
     "name": "stdout",
     "output_type": "stream",
     "text": [
      "585\n",
      "Tanuja\n",
      "Gandhinagar\n",
      "21246\n"
     ]
    }
   ],
   "source": [
    "class Bank:\n",
    "    Account_number=0\n",
    "    name=\"\"\n",
    "    branch=\"\"\n",
    "    ifsc=0\n",
    "    def __init__(self,acc_no,name,branch,ifsc):\n",
    "        self.Account_number=acc_no\n",
    "        self.name=name\n",
    "        self.branch=branch\n",
    "        self.ifsc=ifsc\n",
    "    \n",
    "b1=Bank(585,'Tanuja','Gandhinagar',21246)\n",
    "print(b1.Account_number)\n",
    "print(b1.name)\n",
    "print(b1.branch)\n",
    "print(b1.ifsc)"
   ]
  },
  {
   "cell_type": "code",
   "execution_count": null,
   "id": "9412c92a",
   "metadata": {},
   "outputs": [],
   "source": [
    "class Bank:\n",
    "    account_IFSC=\"\"\n",
    "    __password=\"\"\n",
    "    def __init__(self,account_no,user_name,branch):\n",
    "        self.account_no=account_no\n",
    "        self.user_name=user_name\n",
    "        self.branch=branch\n",
    "        self."
   ]
  },
  {
   "cell_type": "code",
   "execution_count": 1,
   "id": "47d9ca8d",
   "metadata": {},
   "outputs": [],
   "source": [
    "class User:\n",
    "    full_name = \"\"\n",
    "    email = \"\"\n",
    "    __password = \"\"\n",
    "    mobile_number = \"\"\n",
    "    def __init__(self,name,email,password):\n",
    "        self.full_name = name\n",
    "        self.email = email\n",
    "        self.__password = password\n",
    "    def update_name(self,new_name):\n",
    "        self.full_name = new_name\n",
    "    def get_name(self):\n",
    "        return self.full_name\n",
    "    \"\"\"setter method for private variable password\"\"\"\n",
    "    def update_password(self,new_password):\n",
    "        self.__password = new_password\n",
    "    def update_new_mobile_number(self,new_number):\n",
    "        self.mobile_number = new_number\n",
    "    \"\"\" getter method  for accessing number\"\"\"\n",
    "    def get_user_password(self):\n",
    "        return self.__password"
   ]
  },
  {
   "cell_type": "code",
   "execution_count": 3,
   "id": "2832ded9",
   "metadata": {},
   "outputs": [],
   "source": [
    "class Login:\n",
    "    __db = []\n",
    "    def __init__(self):\n",
    "        self.print_menu()\n",
    "    def print_menu(self):\n",
    "        print(\"Welcome User\")\n",
    "        print(\"1. Register\")\n",
    "        print(\"2.Logiin\")\n",
    "        print(\"3. Exit\")\n",
    "    def create_user(self,name,email,password):\n",
    "        new_user=User(name,email,password)\n",
    "        self.__db.append(new_user)\n",
    "    def validate_user(self,emai,password):\n",
    "        pass"
   ]
  },
  {
   "cell_type": "code",
   "execution_count": null,
   "id": "bb7c75d2",
   "metadata": {},
   "outputs": [],
   "source": []
  }
 ],
 "metadata": {
  "kernelspec": {
   "display_name": "Python 3 (ipykernel)",
   "language": "python",
   "name": "python3"
  },
  "language_info": {
   "codemirror_mode": {
    "name": "ipython",
    "version": 3
   },
   "file_extension": ".py",
   "mimetype": "text/x-python",
   "name": "python",
   "nbconvert_exporter": "python",
   "pygments_lexer": "ipython3",
   "version": "3.9.12"
  }
 },
 "nbformat": 4,
 "nbformat_minor": 5
}
