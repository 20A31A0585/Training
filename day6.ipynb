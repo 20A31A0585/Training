{
 "cells": [
  {
   "cell_type": "code",
   "execution_count": 3,
   "id": "2cb16423",
   "metadata": {},
   "outputs": [
    {
     "name": "stdout",
     "output_type": "stream",
     "text": [
      "प्यार।\n"
     ]
    }
   ],
   "source": [
    "from translate import Translator\n",
    "obj = Translator(from_lang=\"english\",to_lang=\"hindi\")\n",
    "new_name = obj.translate(\"love\")\n",
    "print(new_name)"
   ]
  },
  {
   "cell_type": "code",
   "execution_count": 5,
   "id": "26278bfc",
   "metadata": {},
   "outputs": [
    {
     "name": "stdout",
     "output_type": "stream",
     "text": [
      "eats chicken\n",
      "\n"
     ]
    }
   ],
   "source": [
    "class Animal:\n",
    "    def eat(self):\n",
    "        pass\n",
    "    def sound(self):\n",
    "        pass\n",
    "class Dog(Animal):\n",
    "    def eat(self):\n",
    "        print('eats chicken')\n",
    "    def sound(self):\n",
    "        print('Barks')\n",
    "class Cat(Animal):\n",
    "    def eat(self):\n",
    "        print('eats fish')\n",
    "    def sound(self):\n",
    "        print('meow')\n",
    "    def sound(self):\n",
    "        print()\n",
    "obj1=Dog()\n",
    "obj1.eat()\n",
    "obj2=Cat()\n",
    "obj2.sound()"
   ]
  },
  {
   "cell_type": "code",
   "execution_count": 14,
   "id": "43032233",
   "metadata": {},
   "outputs": [
    {
     "name": "stdout",
     "output_type": "stream",
     "text": [
      "in square\n"
     ]
    }
   ],
   "source": [
    "from abc import ABC,abstractmethod\n",
    "\n",
    "class Area(ABC):\n",
    "    @abstractmethod\n",
    "    def calculate_area(self):\n",
    "        pass\n",
    "    @abstractmethod\n",
    "    def calculate_circleArea(self):\n",
    "        pass\n",
    "class SQUare(Area):\n",
    "    def calculate_area(self):\n",
    "        print(\"in square\")\n",
    "    def calculate_circleArea(self):\n",
    "        pass\n",
    "    \n",
    "obj=SQUare()\n",
    "obj.calculate_area()"
   ]
  },
  {
   "cell_type": "code",
   "execution_count": 15,
   "id": "c4de19b3",
   "metadata": {},
   "outputs": [
    {
     "name": "stdout",
     "output_type": "stream",
     "text": [
      "investing in stocks\n"
     ]
    }
   ],
   "source": [
    "from abc import ABC, abstractmethod\n",
    "class Business(ABC):\n",
    "    @abstractmethod\n",
    "    def investing_capital(self):\n",
    "        pass\n",
    "class TCS(Business):\n",
    "    def investing_capital(self):\n",
    "        print('investing in stocks')\n",
    "obj=TCS()\n",
    "obj.investing_capital()"
   ]
  },
  {
   "cell_type": "code",
   "execution_count": null,
   "id": "70616967",
   "metadata": {},
   "outputs": [],
   "source": []
  }
 ],
 "metadata": {
  "kernelspec": {
   "display_name": "Python 3 (ipykernel)",
   "language": "python",
   "name": "python3"
  },
  "language_info": {
   "codemirror_mode": {
    "name": "ipython",
    "version": 3
   },
   "file_extension": ".py",
   "mimetype": "text/x-python",
   "name": "python",
   "nbconvert_exporter": "python",
   "pygments_lexer": "ipython3",
   "version": "3.9.12"
  }
 },
 "nbformat": 4,
 "nbformat_minor": 5
}
