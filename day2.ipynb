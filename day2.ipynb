{
 "cells": [
  {
   "cell_type": "code",
   "execution_count": 12,
   "id": "5b1d08c0",
   "metadata": {},
   "outputs": [
    {
     "name": "stdout",
     "output_type": "stream",
     "text": [
      "{1, 2, 3, 4, 5, 6}\n",
      "{3, 4}\n",
      "{1, 2}\n",
      "{1, 2, 3, 4}\n",
      "None\n",
      "{1, 2}\n"
     ]
    }
   ],
   "source": [
    "s1={1,2,3,4}\n",
    "s2={3,4,5,6}\n",
    "res1=s1.union(s2)\n",
    "print(res1)\n",
    "res2=s1.intersection(s2)\n",
    "print(res2)\n",
    "res3=s1.difference(s2)#the difference is not updated in the set s1 and returns the elements which are different from s2\n",
    "print(res3)\n",
    "print(s1)\n",
    "res4=s1.difference_update(s2)#the difference is updated in the set s1\n",
    "print(res4)\n",
    "print(s1)"
   ]
  },
  {
   "cell_type": "code",
   "execution_count": 14,
   "id": "a3358b02",
   "metadata": {},
   "outputs": [
    {
     "name": "stdout",
     "output_type": "stream",
     "text": [
      "5\n",
      "5  is an odd number\n"
     ]
    }
   ],
   "source": [
    "number=int(input())\n",
    "if(number&1==0):\n",
    "    print(number,\" is an even number\")\n",
    "else:\n",
    "    print(number,\" is an odd number\")"
   ]
  },
  {
   "cell_type": "code",
   "execution_count": 15,
   "id": "eb1b92d4",
   "metadata": {},
   "outputs": [
    {
     "name": "stdout",
     "output_type": "stream",
     "text": [
      "7\n",
      "ODD\n"
     ]
    }
   ],
   "source": [
    "print('EVEN') if int(input())&1==0 else print(\"ODD\")"
   ]
  },
  {
   "cell_type": "code",
   "execution_count": 18,
   "id": "331490d8",
   "metadata": {},
   "outputs": [
    {
     "name": "stdout",
     "output_type": "stream",
     "text": [
      "10\n",
      "INVALID\n"
     ]
    }
   ],
   "source": [
    "day=int(input())\n",
    "if(day==1):\n",
    "    print('SUNDAY')\n",
    "elif(day==2):\n",
    "    print('MONDAY')\n",
    "elif(day==3):\n",
    "    print('TUESDAY')\n",
    "elif(day==4):\n",
    "    print('WEDNESDAY')\n",
    "elif(day==5):\n",
    "    print('THURSDAY')\n",
    "elif(day==6):\n",
    "    print('FRIDAY')\n",
    "elif(day==7):\n",
    "    print('SATURDAY')\n",
    "else:\n",
    "    print('INVALID')"
   ]
  },
  {
   "cell_type": "code",
   "execution_count": 21,
   "id": "ab923612",
   "metadata": {},
   "outputs": [
    {
     "name": "stdout",
     "output_type": "stream",
     "text": [
      "5\n",
      "NORMAL NUMBER\n"
     ]
    }
   ],
   "source": [
    "number=int(input())\n",
    "if(number>0 and number<20):\n",
    "    if(number&1==0):\n",
    "        print(\"WEIRD NUMBER\")\n",
    "    else:\n",
    "        print(\"NORMAL NUMBER\")\n",
    "elif(number>=20 and number<30):\n",
    "    print('NORMAL NUMBER')\n",
    "elif(number>=30 and number&1==1):\n",
    "    print('NORMAL NUMBER')\n",
    "elif(number>=30 and number&1==0):\n",
    "    print('WEIRD NUMBER')\n"
   ]
  },
  {
   "cell_type": "code",
   "execution_count": 7,
   "id": "0bdf5774",
   "metadata": {},
   "outputs": [
    {
     "name": "stdout",
     "output_type": "stream",
     "text": [
      "{585: 'Tanuja', 574: 'Pavani'}\n",
      "Tanuja\n"
     ]
    }
   ],
   "source": [
    "d={}\n",
    "d.update({585:\"Tanuja\"})\n",
    "d.update({574:'Pavani'})\n",
    "print(d)\n",
    "print(d.get(585))"
   ]
  },
  {
   "cell_type": "code",
   "execution_count": 10,
   "id": "c721e86c",
   "metadata": {},
   "outputs": [
    {
     "name": "stdout",
     "output_type": "stream",
     "text": [
      "1\n",
      "0\n"
     ]
    }
   ],
   "source": [
    "list1=[1,4,5,6,7,10]\n",
    "num=int(input())\n",
    "for i in range(len(list1)):\n",
    "    if(num==list1[i]):\n",
    "        print(i)\n",
    "        break\n",
    "else:\n",
    "    print(-1)"
   ]
  },
  {
   "cell_type": "code",
   "execution_count": 12,
   "id": "a6f8dce1",
   "metadata": {},
   "outputs": [
    {
     "name": "stdout",
     "output_type": "stream",
     "text": [
      "[0, 1, 2, 3, 4, 5, 6, 7, 8, 9]\n"
     ]
    }
   ],
   "source": [
    "l1=[]\n",
    "for i in range(10):\n",
    "    l1.append(i)\n",
    "print(l1)"
   ]
  },
  {
   "cell_type": "code",
   "execution_count": 16,
   "id": "091ed368",
   "metadata": {},
   "outputs": [
    {
     "data": {
      "text/plain": [
       "[77]"
      ]
     },
     "execution_count": 16,
     "metadata": {},
     "output_type": "execute_result"
    }
   ],
   "source": [
    "x=[i for i in range(1,101) if i%7==0 and i%11==0]\n",
    "x"
   ]
  },
  {
   "cell_type": "code",
   "execution_count": 8,
   "id": "1d3b2dbe",
   "metadata": {},
   "outputs": [
    {
     "name": "stdout",
     "output_type": "stream",
     "text": [
      "2 3 4\n",
      "4 3 2 "
     ]
    }
   ],
   "source": [
    "li=list(map(int,input().split()))\n",
    "for i in range(len(li)-1,-1,-1):\n",
    "    print(li[i],end=' ')"
   ]
  },
  {
   "cell_type": "code",
   "execution_count": 10,
   "id": "4db0b0ff",
   "metadata": {},
   "outputs": [
    {
     "name": "stdout",
     "output_type": "stream",
     "text": [
      "2 5 7\n",
      "14\n"
     ]
    }
   ],
   "source": [
    "l=list(map(int,input().split()))\n",
    "s=0\n",
    "for i in l:\n",
    "    s+=i\n",
    "print(s)"
   ]
  },
  {
   "cell_type": "code",
   "execution_count": null,
   "id": "d4fe11e3",
   "metadata": {},
   "outputs": [],
   "source": []
  }
 ],
 "metadata": {
  "kernelspec": {
   "display_name": "Python 3 (ipykernel)",
   "language": "python",
   "name": "python3"
  },
  "language_info": {
   "codemirror_mode": {
    "name": "ipython",
    "version": 3
   },
   "file_extension": ".py",
   "mimetype": "text/x-python",
   "name": "python",
   "nbconvert_exporter": "python",
   "pygments_lexer": "ipython3",
   "version": "3.9.12"
  }
 },
 "nbformat": 4,
 "nbformat_minor": 5
}
