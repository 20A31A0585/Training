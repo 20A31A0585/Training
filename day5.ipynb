{
 "cells": [
  {
   "cell_type": "code",
   "execution_count": 1,
   "id": "b0b65cb8",
   "metadata": {},
   "outputs": [
    {
     "name": "stdout",
     "output_type": "stream",
     "text": [
      "10\n",
      "Sandhya\n"
     ]
    }
   ],
   "source": [
    "#single inheritance\n",
    "class Doctor:\n",
    "    name=\"Sandhya\"\n",
    "    age=20\n",
    "\n",
    "class Patient(Doctor):\n",
    "    age=10\n",
    "\n",
    "obj=Patient()\n",
    "print(obj.age)\n",
    "print(obj.name)"
   ]
  },
  {
   "cell_type": "code",
   "execution_count": 2,
   "id": "c9d015e6",
   "metadata": {},
   "outputs": [
    {
     "name": "stdout",
     "output_type": "stream",
     "text": [
      "MBA\n"
     ]
    }
   ],
   "source": [
    "#multilevel \n",
    "class CEO:\n",
    "    name='Tanuja'\n",
    "    age=21\n",
    "    qualification=\"MBA\"\n",
    "class BOD(CEO):\n",
    "    name='Pavani'\n",
    "    age=22\n",
    "class HR(BOD):\n",
    "    name='Varsha'\n",
    "obj=HR()\n",
    "print(obj.qualification)"
   ]
  },
  {
   "cell_type": "code",
   "execution_count": 5,
   "id": "6e51d847",
   "metadata": {},
   "outputs": [
    {
     "name": "stdout",
     "output_type": "stream",
     "text": [
      "guitar\n",
      "String\n",
      "Tabla\n",
      "Drum\n"
     ]
    }
   ],
   "source": [
    "#hierarchichal\n",
    "class Instruments:\n",
    "    type1=\"String\"\n",
    "    type2='Drum'\n",
    "    \n",
    "class String(Instruments):\n",
    "    name='guitar'\n",
    "    \n",
    "class Drum(Instruments):            #diamond problem occurs in multiple inheritance                               \n",
    "    name='Tabla'                    #when a child class wants to access the member which is present in both the classes \n",
    "    \n",
    "    \n",
    "obj1=String()\n",
    "obj2=Drum()\n",
    "print(obj1.name)\n",
    "print(obj1.type1)\n",
    "print(obj2.name)\n",
    "print(obj2.type2)\n",
    "    "
   ]
  },
  {
   "cell_type": "code",
   "execution_count": 7,
   "id": "7c7987dd",
   "metadata": {},
   "outputs": [
    {
     "name": "stdout",
     "output_type": "stream",
     "text": [
      "Learning  concepts of python\n"
     ]
    }
   ],
   "source": [
    "#multiple \n",
    "class Python:\n",
    "    def Learning(self):\n",
    "        print('Learning  concepts of python')\n",
    "        \n",
    "class C:\n",
    "    def Learning(self):\n",
    "        print(\"Learning Concepts of c\")\n",
    "        \n",
    "class Student(Python,C):\n",
    "    pass\n",
    "stu=Student()\n",
    "stu.Learning()"
   ]
  },
  {
   "cell_type": "code",
   "execution_count": 8,
   "id": "2bed86d5",
   "metadata": {},
   "outputs": [
    {
     "name": "stdout",
     "output_type": "stream",
     "text": [
      "String\n"
     ]
    }
   ],
   "source": [
    "#hybrid - hierarchichal and single\n",
    "class Instruments:\n",
    "    type1=\"String\"\n",
    "    type2='Drum'\n",
    "    \n",
    "class String(Instruments):\n",
    "    name='guitar'\n",
    "    \n",
    "class Drum(Instruments):            #diamond problem occurs in multiple inheritance                               \n",
    "    name='Tabla'\n",
    "class violin(String):\n",
    "    pass\n",
    "obj=violin()\n",
    "print(obj.type1)"
   ]
  },
  {
   "cell_type": "code",
   "execution_count": 9,
   "id": "33bd553d",
   "metadata": {},
   "outputs": [
    {
     "name": "stdout",
     "output_type": "stream",
     "text": [
      "pop\n"
     ]
    }
   ],
   "source": [
    "#hybrid- hierarchichal and multiple\n",
    "class Dance:\n",
    "    type1='pop'\n",
    "    type2='Hip - pop'\n",
    "class pop(Dance):\n",
    "    pass\n",
    "class Hip_Pop(Dance):\n",
    "    pass\n",
    "class Western(pop,Hip_Pop):\n",
    "    pass\n",
    "obj=Western()\n",
    "print(obj.type1)"
   ]
  },
  {
   "cell_type": "code",
   "execution_count": 4,
   "id": "fb34f2bb",
   "metadata": {},
   "outputs": [
    {
     "name": "stdout",
     "output_type": "stream",
     "text": [
      "3\n",
      "0.2802004155060306\n"
     ]
    }
   ],
   "source": [
    "from random import random,randint\n",
    "a=randint(1,10)\n",
    "print(a)\n",
    "b=random()\n",
    "print(b)"
   ]
  },
  {
   "cell_type": "code",
   "execution_count": 11,
   "id": "b8469a40",
   "metadata": {},
   "outputs": [
    {
     "name": "stdout",
     "output_type": "stream",
     "text": [
      "choose among the following:  ['rock', 'paper', 'scissor']\n",
      "player choice: 1\n",
      "Invalid input\n",
      "choose among the following:  ['rock', 'paper', 'scissor']\n",
      "player choice: rock\n",
      "system choice:scissor\n",
      "your score : 1, system_score: 0\n",
      "choose among the following:  ['rock', 'paper', 'scissor']\n",
      "player choice: scissor\n",
      "system choice:paper\n",
      "your score : 2, system_score: 0\n",
      "choose among the following:  ['rock', 'paper', 'scissor']\n",
      "player choice: rock\n",
      "system choice:paper\n",
      "your score : 2, system_score: 1\n",
      "choose among the following:  ['rock', 'paper', 'scissor']\n",
      "player choice: paper\n",
      "system choice:paper\n",
      "DRAW\n",
      "choose among the following:  ['rock', 'paper', 'scissor']\n",
      "player choice: rock\n",
      "system choice:paper\n",
      "your score : 2, system_score: 2\n",
      "choose among the following:  ['rock', 'paper', 'scissor']\n",
      "player choice: rock\n",
      "system choice:scissor\n",
      "your score : 3, system_score: 2\n",
      "You win\n"
     ]
    }
   ],
   "source": [
    "from random import randint\n",
    "choice=['rock','paper','scissor']\n",
    "p_score=0\n",
    "c_score=0\n",
    "limit=3\n",
    "while p_score!=limit and c_score != limit:\n",
    "    print(f'choose among the following: ',choice)\n",
    "    my_ch=input('player choice: ').lower()\n",
    "    if my_ch not in choice:\n",
    "        print('Invalid input')\n",
    "        continue\n",
    "    sys_ch=choice[randint(0,2)]                                             #rock paper scissors\n",
    "    print(f\"system choice:{sys_ch}\")\n",
    "    if my_ch==sys_ch:\n",
    "        print('DRAW')\n",
    "        continue\n",
    "    if my_ch=='rock' and sys_ch==\"scissor\":\n",
    "        p_score+=1\n",
    "    elif my_ch=='paper' and sys_ch=='rock':\n",
    "        p_score+=1\n",
    "    elif my_ch=='scissor' and sys_ch=='paper':\n",
    "        p_score+=1\n",
    "    else:\n",
    "        c_score+=1\n",
    "    print(f\"your score : {p_score}, system_score: {c_score}\")\n",
    "if p_score>c_score:\n",
    "          print('You win')\n",
    "else:\n",
    "          print('system win')\n"
   ]
  },
  {
   "cell_type": "code",
   "execution_count": 14,
   "id": "9cd841ab",
   "metadata": {},
   "outputs": [
    {
     "name": "stdout",
     "output_type": "stream",
     "text": [
      "value is  10\n"
     ]
    }
   ],
   "source": [
    "#polymorphism - many forms\n",
    "#method overriding is also  called run time polymorphism\n",
    "class A:\n",
    "    def method_1(self,a,b):\n",
    "        print(\"sum of two numbers: \",a+b)\n",
    "        \n",
    "class B(A):\n",
    "    def method_1(self,a,b):                 #method overriding - as it is also being used in class A\n",
    "        print('mul of  a and b is ',a*b)\n",
    "    def method_1(self,abc):                #method overloading\n",
    "        print('value is ',abc)\n",
    "ob=B()\n",
    "ob.method_1(10)"
   ]
  },
  {
   "cell_type": "code",
   "execution_count": 37,
   "id": "62f4f98d",
   "metadata": {},
   "outputs": [
    {
     "name": "stdout",
     "output_type": "stream",
     "text": [
      "5\n",
      "7\n",
      "2\n"
     ]
    }
   ],
   "source": [
    "num1=int(input())\n",
    "num2=int(input())\n",
    "bin_num1=bin(num1)\n",
    "bin_num2=bin(num2)\n",
    "x=''\n",
    "for i in bin_num1[2:]:\n",
    "    if i=='0':\n",
    "        x=x+'1'\n",
    "    else:\n",
    "        x=x+'0'\n",
    "y=''\n",
    "for i in bin_num2[2:]:\n",
    "    if i=='0':\n",
    "        y=y+'1'\n",
    "    else:\n",
    "        y=y+'0'\n",
    "a=int(x,2)\n",
    "b=int(y,2)\n",
    "print(a^b)"
   ]
  },
  {
   "cell_type": "code",
   "execution_count": null,
   "id": "803d92d9",
   "metadata": {},
   "outputs": [],
   "source": []
  },
  {
   "cell_type": "code",
   "execution_count": null,
   "id": "e85caa9e",
   "metadata": {},
   "outputs": [],
   "source": []
  }
 ],
 "metadata": {
  "kernelspec": {
   "display_name": "Python 3 (ipykernel)",
   "language": "python",
   "name": "python3"
  },
  "language_info": {
   "codemirror_mode": {
    "name": "ipython",
    "version": 3
   },
   "file_extension": ".py",
   "mimetype": "text/x-python",
   "name": "python",
   "nbconvert_exporter": "python",
   "pygments_lexer": "ipython3",
   "version": "3.9.12"
  }
 },
 "nbformat": 4,
 "nbformat_minor": 5
}
